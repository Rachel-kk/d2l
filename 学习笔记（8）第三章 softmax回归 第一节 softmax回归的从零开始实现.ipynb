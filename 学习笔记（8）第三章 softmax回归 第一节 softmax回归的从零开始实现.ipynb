{
 "cells": [
  {
   "cell_type": "markdown",
   "metadata": {},
   "source": [
    "## softmax回归的从零开始实现"
   ]
  },
  {
   "cell_type": "code",
   "execution_count": 1,
   "metadata": {},
   "outputs": [],
   "source": [
    "import torch\n",
    "from IPython import display\n",
    "from d2l import torch as d2l"
   ]
  },
  {
   "cell_type": "code",
   "execution_count": 4,
   "metadata": {},
   "outputs": [],
   "source": [
    "batch_size = 256\n",
    "train_iter, test_iter = d2l.load_data_fashion_mnist(batch_size)"
   ]
  },
  {
   "cell_type": "markdown",
   "metadata": {},
   "source": [
    "## 1. 初始化模型参数\n",
    "由于Fashi MNIST数据有10个类别，所以网络输出维度为10。因此，权重将构成一个784 x 10的矩阵，偏置将构成一个 1x 10的行向量。"
   ]
  },
  {
   "cell_type": "code",
   "execution_count": 6,
   "metadata": {},
   "outputs": [],
   "source": [
    "num_inputs = 784\n",
    "num_outputs = 10\n",
    "\n",
    "# 权重服从正态分布\n",
    "w = torch.normal(0, 0.01, size=(num_inputs, num_outputs), requires_grad=True)\n",
    "# 偏置初始化为0\n",
    "b = torch.zeros(num_outputs, requires_grad=True)"
   ]
  },
  {
   "cell_type": "markdown",
   "metadata": {},
   "source": [
    "## 2. 定义softmax操作\n",
    "softmax由三个步骤组成：\n",
    "* (1) 对每个项求幂（使用exp）\n",
    "* (2) 对每一行求和（小批量中每个样本是一行），得到每个样本的归一化常数\n",
    "* (3) 将每一行除以其归一化常数，确保结果的和为1\n",
    "$$\n",
    "softmax(X)_{ij} = \\frac{exp(X_{ij})}{\\sum_{k}{exp(X_{ik})}}\n",
    "$$\n",
    "\n",
    "分母或归一化常数，也称为配分函数（其对数称为对数-配分函数）"
   ]
  },
  {
   "cell_type": "code",
   "execution_count": 11,
   "metadata": {},
   "outputs": [],
   "source": [
    "def softmax(X):\n",
    "    X_exp = torch.exp(X)\n",
    "    partition = X_exp.sum(1, keepdim=True)\n",
    "    return X_exp / partition;  # 应用广播机制"
   ]
  },
  {
   "cell_type": "code",
   "execution_count": 12,
   "metadata": {},
   "outputs": [
    {
     "data": {
      "text/plain": [
       "(tensor([[0.0378, 0.0730, 0.5716, 0.1752, 0.1425],\n",
       "         [0.0573, 0.3576, 0.3143, 0.2316, 0.0391]]),\n",
       " tensor([1.0000, 1.0000]))"
      ]
     },
     "execution_count": 12,
     "metadata": {},
     "output_type": "execute_result"
    }
   ],
   "source": [
    "X = torch.normal(0, 1, (2, 5))\n",
    "X_prob = softmax(X)\n",
    "X_prob, X_prob.sum(1)"
   ]
  },
  {
   "cell_type": "markdown",
   "metadata": {},
   "source": [
    "## 3. 定义模型\n",
    "定义输入如何通过网络映射到输出。"
   ]
  },
  {
   "cell_type": "code",
   "execution_count": 13,
   "metadata": {},
   "outputs": [],
   "source": [
    "# 将数据传递到我们的模型之前，使用reshape函数将每张原始图像展平为向量\n",
    "def net(X):\n",
    "    return softmax(torch.matmul(X.reshape((-1, W.shape[0])), W) + b)"
   ]
  },
  {
   "cell_type": "markdown",
   "metadata": {},
   "source": [
    "## 4. 定义损失函数\n",
    "交叉熵损失函数： 采用真实标签的预测概率的负对数似然。\n",
    "实现方式不采用Python的 for 循环迭代预测（这往往是低效的），而是通过一个运算符选择所有元素\n",
    "\n",
    "* 创建一个数据y_hat，其中包含2个样本在3个类别的概率，他们对应的标签y\n",
    "* 第一个样本中，第一类是正确的预测，而在第二个样本中，第三类是正确的预测\n",
    "* 然后使用y作为y_hat中概率的索引"
   ]
  },
  {
   "cell_type": "code",
   "execution_count": 66,
   "metadata": {},
   "outputs": [
    {
     "data": {
      "text/plain": [
       "tensor([0.1000, 0.5000])"
      ]
     },
     "execution_count": 66,
     "metadata": {},
     "output_type": "execute_result"
    }
   ],
   "source": [
    "y = torch.tensor([0, 2]) \n",
    "y_hat = torch.tensor([[0.1, 0.3, 0.6], [0.3, 0.2, 0.5]])\n",
    "y_hat[[0, 1], y]"
   ]
  },
  {
   "cell_type": "code",
   "execution_count": 67,
   "metadata": {},
   "outputs": [
    {
     "data": {
      "text/plain": [
       "tensor([2.3026, 0.6931])"
      ]
     },
     "execution_count": 67,
     "metadata": {},
     "output_type": "execute_result"
    }
   ],
   "source": [
    "# 实现交叉熵损失函数\n",
    "def cross_entropy(y_hat, y):\n",
    "    return -torch.log(y_hat[range(len(y_hat)), y])\n",
    "\n",
    "cross_entropy(y_hat, y)"
   ]
  },
  {
   "cell_type": "markdown",
   "metadata": {},
   "source": [
    "## 5. 分类准确率\n",
    "给定预测概率分布y_hat，必须输出**硬预测(hard prediction)**时，通常选择预测概率最高的类\n",
    "\n",
    "当预测与标签分类y一致时，他们是正确的。**分类准确率即正确预测数量与总预测数量之比**\n",
    "\n",
    "为了计算准确率，我们执行以下操作：\n",
    "* 首先，如果y_hat是矩阵，那么假定第二个维度存在每个类的预测分数。使用argmax获得每行中最大元素的索引来获得预测类别\n",
    "\n",
    "* 然后我们将预测类别与真实y元素进行比较"
   ]
  },
  {
   "cell_type": "code",
   "execution_count": 70,
   "metadata": {},
   "outputs": [],
   "source": [
    "def accuracy(y_hat, y):\n",
    "    \"\"\"计算预测正确的数量\"\"\"\n",
    "    # 第二维度存储每个类的预测分数\n",
    "    if len(y_hat.shape) > 1 and y_hat.shape[1] > 1:\n",
    "        # argmax获得每行中最大元素的索引来获得预测类别\n",
    "        y_hat = y_hat.argmax(axis=1)\n",
    "    # 由于等式运算符 == 对数据类型很敏感，需要将比较对象的数据类型一致\n",
    "    cmp = y_hat.type(y.dtype) == y \n",
    "    return float(cmp.type(y.dtype).sum())"
   ]
  },
  {
   "cell_type": "code",
   "execution_count": 71,
   "metadata": {},
   "outputs": [
    {
     "data": {
      "text/plain": [
       "0.5"
      ]
     },
     "execution_count": 71,
     "metadata": {},
     "output_type": "execute_result"
    }
   ],
   "source": [
    "accuracy(y_hat, y) / len(y)"
   ]
  },
  {
   "cell_type": "code",
   "execution_count": null,
   "metadata": {},
   "outputs": [],
   "source": []
  }
 ],
 "metadata": {
  "kernelspec": {
   "display_name": "Python [conda env:pytorch-gpu] *",
   "language": "python",
   "name": "conda-env-pytorch-gpu-py"
  },
  "language_info": {
   "codemirror_mode": {
    "name": "ipython",
    "version": 3
   },
   "file_extension": ".py",
   "mimetype": "text/x-python",
   "name": "python",
   "nbconvert_exporter": "python",
   "pygments_lexer": "ipython3",
   "version": "3.8.10"
  }
 },
 "nbformat": 4,
 "nbformat_minor": 4
}
