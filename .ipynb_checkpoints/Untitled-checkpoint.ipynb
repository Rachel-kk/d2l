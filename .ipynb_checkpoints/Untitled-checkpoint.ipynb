{
 "cells": [
  {
   "cell_type": "markdown",
   "metadata": {},
   "source": [
    "# 图像分类数据集\n",
    "\n",
    "* MNIST数据集：广泛使用的图像分类数据集之一，它是很不错的基准数据集，但按今天的标准，即使是简单的模型也能达到95%以上的分类准确率，因此不适合区分强模型和弱模型。本节主要通过在2017年发布的性质相似但相对复杂的Fashion-MNIST数据集来实现**读取数据集和读取小批量**\n",
    "\n",
    "**torchvision**是独立于Pytorch的关于图像操作的一些方便工具库。它主要包括以下几个包：\n",
    "* vision.datasets：几个常用数据集，可以下载和加载，这里主要的高级用法就是可以看远吗如何自己写自己的Dataset的子类\n",
    "* vision.models： 流行的模型，例如AlexNet, VGG, ResNet和Densenet以及训练好的参数\n",
    "* vision.transforms： 常用的图像操作，例如：随机切割，旋转，数据类型转换，图像到tensor，numpy数组到tensor，tensor到图像等。\n",
    "* visio.utils：用于把形似(3 x H x W)的张量保存到硬盘中，给一个mini-batch的图像可以产生一个图像格网。"
   ]
  },
  {
   "cell_type": "code",
   "execution_count": 1,
   "metadata": {},
   "outputs": [],
   "source": [
    "%matplotlib inline\n",
    "import torch\n",
    "import torchvision\n",
    "from torch.utils import data\n",
    "from torchvision import transforms\n",
    "from d2l import torch as d2l\n",
    "\n",
    "d2l.use_svg_display()"
   ]
  },
  {
   "cell_type": "markdown",
   "metadata": {},
   "source": [
    "## 1. 读取数据集\n",
    "通过框架中的内置函数将Fashion-MNIST数据集下载并读取到内存中"
   ]
  },
  {
   "cell_type": "code",
   "execution_count": 6,
   "metadata": {
    "code_folding": []
   },
   "outputs": [],
   "source": [
    "# 通过ToTensor实例将图像数据从PIL类型变换成32位浮点数格式\n",
    "# 并除以255使得所有像素的数值均在0到1之间\n",
    "\n",
    "trans = transforms.ToTensor()\n",
    "mnist_train = torchvision.datasets.FashionMNIST(\n",
    "    root='../data', train=True, transform=trans, download=True)\n",
    "mnistf_test = torchvision.datasets.FashionMNIST(\n",
    "    root='../data', train=False, transform=trans, download=True)"
   ]
  },
  {
   "cell_type": "code",
   "execution_count": null,
   "metadata": {},
   "outputs": [],
   "source": []
  }
 ],
 "metadata": {
  "kernelspec": {
   "display_name": "Python [conda env:pytorch-gpu] *",
   "language": "python",
   "name": "conda-env-pytorch-gpu-py"
  },
  "language_info": {
   "codemirror_mode": {
    "name": "ipython",
    "version": 3
   },
   "file_extension": ".py",
   "mimetype": "text/x-python",
   "name": "python",
   "nbconvert_exporter": "python",
   "pygments_lexer": "ipython3",
   "version": "3.8.10"
  }
 },
 "nbformat": 4,
 "nbformat_minor": 4
}
